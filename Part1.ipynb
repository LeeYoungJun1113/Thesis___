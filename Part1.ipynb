{
  "nbformat": 4,
  "nbformat_minor": 0,
  "metadata": {
    "colab": {
      "name": "Part1",
      "provenance": [],
      "collapsed_sections": [],
      "authorship_tag": "ABX9TyOYaH73axn5ehaIIVFbLea3",
      "include_colab_link": true
    },
    "kernelspec": {
      "name": "python3",
      "display_name": "Python 3"
    },
    "language_info": {
      "name": "python"
    }
  },
  "cells": [
    {
      "cell_type": "markdown",
      "metadata": {
        "id": "view-in-github",
        "colab_type": "text"
      },
      "source": [
        "<a href=\"https://colab.research.google.com/github/LeeYoungJun1113/Thesis___/blob/main/Part1.ipynb\" target=\"_parent\"><img src=\"https://colab.research.google.com/assets/colab-badge.svg\" alt=\"Open In Colab\"/></a>"
      ]
    },
    {
      "cell_type": "code",
      "execution_count": 2,
      "metadata": {
        "colab": {
          "base_uri": "https://localhost:8080/"
        },
        "id": "CqrNBcuXQlOt",
        "outputId": "31334c91-364b-4416-de5d-e6f3a9c5cf4d"
      },
      "outputs": [
        {
          "output_type": "stream",
          "name": "stdout",
          "text": [
            "Drive already mounted at /content/gdrive; to attempt to forcibly remount, call drive.mount(\"/content/gdrive\", force_remount=True).\n"
          ]
        }
      ],
      "source": [
        "from google.colab import drive\n",
        "drive.mount('/content/gdrive')\n",
        "\n",
        "## 내 드라이브에 코랩이 호환 하게함하게함"
      ]
    },
    {
      "cell_type": "code",
      "source": [
        "\n",
        "\n",
        "# 다운그레이드 예시\n",
        "!pip install --upgrade tensorflow==2.0.0"
      ],
      "metadata": {
        "colab": {
          "base_uri": "https://localhost:8080/",
          "height": 1000
        },
        "id": "KwcUCOddCGSd",
        "outputId": "d3aa3a0c-dab6-407e-817d-519e389cb401"
      },
      "execution_count": 20,
      "outputs": [
        {
          "output_type": "stream",
          "name": "stdout",
          "text": [
            "Looking in indexes: https://pypi.org/simple, https://us-python.pkg.dev/colab-wheels/public/simple/\n",
            "Collecting tensorflow==2.0.0\n",
            "  Downloading tensorflow-2.0.0-cp37-cp37m-manylinux2010_x86_64.whl (86.3 MB)\n",
            "\u001b[K     |████████████████████████████████| 86.3 MB 31 kB/s \n",
            "\u001b[?25hRequirement already satisfied: wheel>=0.26 in /usr/local/lib/python3.7/dist-packages (from tensorflow==2.0.0) (0.37.1)\n",
            "Requirement already satisfied: google-pasta>=0.1.6 in /usr/local/lib/python3.7/dist-packages (from tensorflow==2.0.0) (0.2.0)\n",
            "Requirement already satisfied: numpy<2.0,>=1.16.0 in /usr/local/lib/python3.7/dist-packages (from tensorflow==2.0.0) (1.18.5)\n",
            "Requirement already satisfied: termcolor>=1.1.0 in /usr/local/lib/python3.7/dist-packages (from tensorflow==2.0.0) (1.1.0)\n",
            "Requirement already satisfied: keras-preprocessing>=1.0.5 in /usr/local/lib/python3.7/dist-packages (from tensorflow==2.0.0) (1.1.2)\n",
            "Requirement already satisfied: protobuf>=3.6.1 in /usr/local/lib/python3.7/dist-packages (from tensorflow==2.0.0) (3.17.3)\n",
            "Requirement already satisfied: grpcio>=1.8.6 in /usr/local/lib/python3.7/dist-packages (from tensorflow==2.0.0) (1.46.3)\n",
            "Collecting tensorflow-estimator<2.1.0,>=2.0.0\n",
            "  Downloading tensorflow_estimator-2.0.1-py2.py3-none-any.whl (449 kB)\n",
            "\u001b[K     |████████████████████████████████| 449 kB 31.8 MB/s \n",
            "\u001b[?25hRequirement already satisfied: opt-einsum>=2.3.2 in /usr/local/lib/python3.7/dist-packages (from tensorflow==2.0.0) (3.3.0)\n",
            "Requirement already satisfied: six>=1.10.0 in /usr/local/lib/python3.7/dist-packages (from tensorflow==2.0.0) (1.15.0)\n",
            "Requirement already satisfied: absl-py>=0.7.0 in /usr/local/lib/python3.7/dist-packages (from tensorflow==2.0.0) (1.1.0)\n",
            "Collecting gast==0.2.2\n",
            "  Downloading gast-0.2.2.tar.gz (10 kB)\n",
            "Collecting tensorboard<2.1.0,>=2.0.0\n",
            "  Downloading tensorboard-2.0.2-py3-none-any.whl (3.8 MB)\n",
            "\u001b[K     |████████████████████████████████| 3.8 MB 36.2 MB/s \n",
            "\u001b[?25hRequirement already satisfied: wrapt>=1.11.1 in /usr/local/lib/python3.7/dist-packages (from tensorflow==2.0.0) (1.14.1)\n",
            "Collecting keras-applications>=1.0.8\n",
            "  Downloading Keras_Applications-1.0.8-py3-none-any.whl (50 kB)\n",
            "\u001b[K     |████████████████████████████████| 50 kB 3.7 MB/s \n",
            "\u001b[?25hRequirement already satisfied: astor>=0.6.0 in /usr/local/lib/python3.7/dist-packages (from tensorflow==2.0.0) (0.8.1)\n",
            "Requirement already satisfied: h5py in /usr/local/lib/python3.7/dist-packages (from keras-applications>=1.0.8->tensorflow==2.0.0) (2.10.0)\n",
            "Requirement already satisfied: markdown>=2.6.8 in /usr/local/lib/python3.7/dist-packages (from tensorboard<2.1.0,>=2.0.0->tensorflow==2.0.0) (3.3.7)\n",
            "Requirement already satisfied: google-auth-oauthlib<0.5,>=0.4.1 in /usr/local/lib/python3.7/dist-packages (from tensorboard<2.1.0,>=2.0.0->tensorflow==2.0.0) (0.4.6)\n",
            "Requirement already satisfied: requests<3,>=2.21.0 in /usr/local/lib/python3.7/dist-packages (from tensorboard<2.1.0,>=2.0.0->tensorflow==2.0.0) (2.23.0)\n",
            "Requirement already satisfied: werkzeug>=0.11.15 in /usr/local/lib/python3.7/dist-packages (from tensorboard<2.1.0,>=2.0.0->tensorflow==2.0.0) (1.0.1)\n",
            "Requirement already satisfied: setuptools>=41.0.0 in /usr/local/lib/python3.7/dist-packages (from tensorboard<2.1.0,>=2.0.0->tensorflow==2.0.0) (57.4.0)\n",
            "Requirement already satisfied: google-auth<2,>=1.6.3 in /usr/local/lib/python3.7/dist-packages (from tensorboard<2.1.0,>=2.0.0->tensorflow==2.0.0) (1.35.0)\n",
            "Requirement already satisfied: rsa<5,>=3.1.4 in /usr/local/lib/python3.7/dist-packages (from google-auth<2,>=1.6.3->tensorboard<2.1.0,>=2.0.0->tensorflow==2.0.0) (4.8)\n",
            "Requirement already satisfied: cachetools<5.0,>=2.0.0 in /usr/local/lib/python3.7/dist-packages (from google-auth<2,>=1.6.3->tensorboard<2.1.0,>=2.0.0->tensorflow==2.0.0) (4.2.4)\n",
            "Requirement already satisfied: pyasn1-modules>=0.2.1 in /usr/local/lib/python3.7/dist-packages (from google-auth<2,>=1.6.3->tensorboard<2.1.0,>=2.0.0->tensorflow==2.0.0) (0.2.8)\n",
            "Requirement already satisfied: requests-oauthlib>=0.7.0 in /usr/local/lib/python3.7/dist-packages (from google-auth-oauthlib<0.5,>=0.4.1->tensorboard<2.1.0,>=2.0.0->tensorflow==2.0.0) (1.3.1)\n",
            "Requirement already satisfied: importlib-metadata>=4.4 in /usr/local/lib/python3.7/dist-packages (from markdown>=2.6.8->tensorboard<2.1.0,>=2.0.0->tensorflow==2.0.0) (4.11.4)\n",
            "Requirement already satisfied: zipp>=0.5 in /usr/local/lib/python3.7/dist-packages (from importlib-metadata>=4.4->markdown>=2.6.8->tensorboard<2.1.0,>=2.0.0->tensorflow==2.0.0) (3.8.0)\n",
            "Requirement already satisfied: typing-extensions>=3.6.4 in /usr/local/lib/python3.7/dist-packages (from importlib-metadata>=4.4->markdown>=2.6.8->tensorboard<2.1.0,>=2.0.0->tensorflow==2.0.0) (4.1.1)\n",
            "Requirement already satisfied: pyasn1<0.5.0,>=0.4.6 in /usr/local/lib/python3.7/dist-packages (from pyasn1-modules>=0.2.1->google-auth<2,>=1.6.3->tensorboard<2.1.0,>=2.0.0->tensorflow==2.0.0) (0.4.8)\n",
            "Requirement already satisfied: certifi>=2017.4.17 in /usr/local/lib/python3.7/dist-packages (from requests<3,>=2.21.0->tensorboard<2.1.0,>=2.0.0->tensorflow==2.0.0) (2022.6.15)\n",
            "Requirement already satisfied: idna<3,>=2.5 in /usr/local/lib/python3.7/dist-packages (from requests<3,>=2.21.0->tensorboard<2.1.0,>=2.0.0->tensorflow==2.0.0) (2.10)\n",
            "Requirement already satisfied: urllib3!=1.25.0,!=1.25.1,<1.26,>=1.21.1 in /usr/local/lib/python3.7/dist-packages (from requests<3,>=2.21.0->tensorboard<2.1.0,>=2.0.0->tensorflow==2.0.0) (1.24.3)\n",
            "Requirement already satisfied: chardet<4,>=3.0.2 in /usr/local/lib/python3.7/dist-packages (from requests<3,>=2.21.0->tensorboard<2.1.0,>=2.0.0->tensorflow==2.0.0) (3.0.4)\n",
            "Requirement already satisfied: oauthlib>=3.0.0 in /usr/local/lib/python3.7/dist-packages (from requests-oauthlib>=0.7.0->google-auth-oauthlib<0.5,>=0.4.1->tensorboard<2.1.0,>=2.0.0->tensorflow==2.0.0) (3.2.0)\n",
            "Building wheels for collected packages: gast\n",
            "  Building wheel for gast (setup.py) ... \u001b[?25l\u001b[?25hdone\n",
            "  Created wheel for gast: filename=gast-0.2.2-py3-none-any.whl size=7554 sha256=45801383b3769e2892437d3c5675881aa77b74b3d4db8667f424ab2213de4e38\n",
            "  Stored in directory: /root/.cache/pip/wheels/21/7f/02/420f32a803f7d0967b48dd823da3f558c5166991bfd204eef3\n",
            "Successfully built gast\n",
            "Installing collected packages: tensorflow-estimator, tensorboard, keras-applications, gast, tensorflow\n",
            "  Attempting uninstall: tensorflow-estimator\n",
            "    Found existing installation: tensorflow-estimator 2.2.0\n",
            "    Uninstalling tensorflow-estimator-2.2.0:\n",
            "      Successfully uninstalled tensorflow-estimator-2.2.0\n",
            "  Attempting uninstall: tensorboard\n",
            "    Found existing installation: tensorboard 2.2.2\n",
            "    Uninstalling tensorboard-2.2.2:\n",
            "      Successfully uninstalled tensorboard-2.2.2\n",
            "  Attempting uninstall: gast\n",
            "    Found existing installation: gast 0.3.3\n",
            "    Uninstalling gast-0.3.3:\n",
            "      Successfully uninstalled gast-0.3.3\n",
            "  Attempting uninstall: tensorflow\n",
            "    Found existing installation: tensorflow 2.2.2\n",
            "    Uninstalling tensorflow-2.2.2:\n",
            "      Successfully uninstalled tensorflow-2.2.2\n",
            "\u001b[31mERROR: pip's dependency resolver does not currently take into account all the packages that are installed. This behaviour is the source of the following dependency conflicts.\n",
            "tensorflow-probability 0.16.0 requires gast>=0.3.2, but you have gast 0.2.2 which is incompatible.\u001b[0m\n",
            "Successfully installed gast-0.2.2 keras-applications-1.0.8 tensorboard-2.0.2 tensorflow-2.0.0 tensorflow-estimator-2.0.1\n"
          ]
        },
        {
          "output_type": "display_data",
          "data": {
            "application/vnd.colab-display-data+json": {
              "pip_warning": {
                "packages": [
                  "gast",
                  "tensorboard",
                  "tensorflow"
                ]
              }
            }
          },
          "metadata": {}
        }
      ]
    },
    {
      "cell_type": "code",
      "source": [
        "print(tf.__version__)"
      ],
      "metadata": {
        "colab": {
          "base_uri": "https://localhost:8080/"
        },
        "id": "n-P1B2_3Csr7",
        "outputId": "6bb74123-e16b-48c9-b13d-0489eff37a5c"
      },
      "execution_count": 17,
      "outputs": [
        {
          "output_type": "stream",
          "name": "stdout",
          "text": [
            "2.2.2\n"
          ]
        }
      ]
    },
    {
      "cell_type": "code",
      "source": [
        "import pandas as pd\n",
        "import numpy as np\n",
        "import glob\n",
        "import matplotlib.pyplot as plt\n",
        "import tensorflow as tf\n",
        "\n",
        "import sys\n",
        "import random\n",
        "import warnings\n",
        "warnings.filterwarnings('ignore')\n",
        "\n",
        "import cv2\n",
        "import os\n",
        "import PIL\n",
        "from sklearn.model_selection import train_test_split\n",
        "from sklearn.utils import class_weight\n",
        "import nibabel as nib\n",
        "\n",
        "from pylab import rcParams\n",
        "\n",
        "from tensorflow.keras.callbacks import Callback\n",
        "from tensorflow.keras import datasets, layers, models\n",
        "from tensorflow.keras.models import Model, load_model, Sequential\n",
        "from tensorflow.keras.layers import Input, BatchNormalization, Activation, Dense, Dropout, Flatten\n",
        "from tensorflow.keras.layers import Conv2D, MaxPooling2D, GlobalMaxPooling2D\n",
        "from tensorflow.keras.layers import concatenate, add\n",
        "from tensorflow.keras.callbacks import ModelCheckpoint\n",
        "from tensorflow.keras.optimizers import Adam\n",
        "from tensorflow.keras.preprocessing.image import ImageDataGenerator, array_to_img, img_to_array, load_img\n",
        "from tensorflow.keras import backend as K\n",
        "\n",
        "raw_data = pd.read_csv('/content/gdrive/MyDrive/K_THESIS/input/covid19-ct-scans/metadata.csv')\n",
        "raw_data = raw_data.replace('../input/covid19-ct-scans/','/content/gdrive/MyDrive/K_THESIS/input/covid19-ct-scans/',regex=True)\n",
        "raw_data.shape"
      ],
      "metadata": {
        "colab": {
          "base_uri": "https://localhost:8080/"
        },
        "id": "FuzgMex6S_WM",
        "outputId": "c4c77ba0-dd12-4b41-fe51-7b907e0bda99"
      },
      "execution_count": 7,
      "outputs": [
        {
          "output_type": "execute_result",
          "data": {
            "text/plain": [
              "(20, 4)"
            ]
          },
          "metadata": {},
          "execution_count": 7
        }
      ]
    },
    {
      "cell_type": "code",
      "source": [
        "# Step for preprocessing images\n",
        "# CLAHE Enhance to intensify the contrast of the CT images \n",
        "# because medical images suffer much from the contrast problems in clinical routine\n",
        "\n",
        "def clahe_enhancer(img, demo=False):\n",
        "  img = np.uint8(img*255)\n",
        "  clahe = cv2.createCLAHE(clipLimit=3.0, tileGridSize=(8,8))\n",
        "  clahe_img = clahe.apply(img)\n",
        "  if demo:\n",
        "    clahe_img_flattened = clahe_img.flatten()\n",
        "    fig = plt.figure()\n",
        "    rcParams['figure.figsize'] = 10,10\n",
        "\n",
        "    plt.subplot(2, 2, 1)\n",
        "    plt.imshow(img, cmap='bone')\n",
        "    plt.title(\"Original CT-scan\")\n",
        "\n",
        "    plt.subplot(2, 2, 2)\n",
        "    plt.hist(img_flattened)\n",
        "    plt.title(\"Histogram of Original CT-Scan\")\n",
        "  \n",
        "    plt.subplot(2, 2, 3)\n",
        "    plt.imshow(clahe_img, cmap='bone')\n",
        "    plt.title(\"CLAHE Enhanced CT-Scan\")\n",
        "\n",
        "    plt.subplot(2, 2, 4)\n",
        "    plt.hist(clahe_img_flattened)\n",
        "    plt.title(\"Histogram of CLAHE Enhanced CT-Scan\")\n",
        "    \n",
        "  return clahe_img\n",
        "\n"
      ],
      "metadata": {
        "id": "-_r9ONaaW1oB"
      },
      "execution_count": 9,
      "outputs": []
    },
    {
      "cell_type": "code",
      "source": [
        "# Cropping: Define a function to crop the lungs region in the lungs mask image\n",
        "\n",
        "def cropper(test_img):\n",
        "  \n",
        "  test_img = test_img*255\n",
        "  test_img = np.uint8(test_img)\n",
        "  contours, hierarchy = cv2.findContours(test_img, cv2.RETR_TREE, cv2.CHAIN_APPROX_SIMPLE)\n",
        "  areas = [cv2.contourArea(c) for c in contours]\n",
        "  x = np.argsort(areas)\n",
        "  max_index = x[x.size - 1]\n",
        "  cnt1=contours[max_index]\n",
        "  second_max_index = x[x.size - 2]\n",
        "  cnt2 = contours[second_max_index]\n",
        "\n",
        "  x,y,w,h = cv2.boundingRect(cnt1)\n",
        "  p,q,r,s = cv2.boundingRect(cnt2)\n",
        "  cropped1 = test_img[y:y+h, x:x+w]\n",
        "  cropped1 = cv2.resize(cropped1, dsize=(125,250), interpolation=cv2.INTER_AREA)\n",
        "  cropped2 = test_img[q:q+s, p:p+r]\n",
        "  cropped2 = cv2.resize(cropped2, dsize=(125,250), interpolation=cv2.INTER_AREA)\n",
        "\n",
        "  if x < p:\n",
        "    fused = np.concatenate((cropped1, cropped2), axis=1)\n",
        "  else:\n",
        "    fused = np.concatenate((cropped2, cropped1), axis=1)\n",
        "\n",
        "  points_lung1 = []\n",
        "  points_lung2 = []\n",
        "  points_lung1.append(x); points_lung1.append(y); points_lung1.append(w); points_lung1.append(h)\n",
        "  points_lung2.append(p); points_lung2.append(q); points_lung2.append(r); points_lung2.append(s)\n",
        "\n",
        "  return(fused, points_lung1, points_lung2)"
      ],
      "metadata": {
        "id": "lAR9xwY3hTxO"
      },
      "execution_count": 10,
      "outputs": []
    },
    {
      "cell_type": "code",
      "source": [
        "# Load and prepare data\n",
        "# Define a function to read .nii files\n",
        "# Total slilces are 3520, which have been sliced out by 20% in the front and by 20% in the last of each file\n",
        "# Since in general these didn't had any infection masks and some didn't had the lungs, removed as noise.\n",
        "# Images had pixel vlaues in a very large range, so need to normalize the pixel values.\n",
        "\n",
        "all_points1 = []\n",
        "all_points2 = []\n",
        "\n",
        "def read_nii(filepath, data, string):\n",
        "  global all_points1\n",
        "  global all_points2\n",
        "  ct_scan = nib.load(filepath)\n",
        "  array   = ct_scan.get_fdata()\n",
        "  array   = np.rot90(np.array(array))\n",
        "  slices  = array.shape[2]\n",
        "  array   = array[:,:,round(slices*0.2):round(slices*0.8)]\n",
        "  array   = np.reshape(np.rollaxis(array, 2), (array.shape[2], array.shape[0], array.shape[1], 1))\n",
        "\n",
        "  if string == \"lungs\":\n",
        "    all_points1 = []\n",
        "    all_points2 = []\n",
        "\n",
        "  for img_no in range(0, array.shape[0]):\n",
        "    if string == 'lungs' and np.unique(array[img_no]).size == 1:\n",
        "      continue\n",
        "    img = cv2.resize(array[img_no], dsize=(img_size, img_size), interpolation=cv2.INTER_AREA)\n",
        "    # nomalize img\n",
        "    xmax, xmin = img.max(), img.min()\n",
        "    img = (img - xmin) / (xmax - xmin)\n",
        "\n",
        "    if string == 'lungs':\n",
        "      img[img>0]=1\n",
        "      img, points1, points2 = cropper(img)\n",
        "      all_points1.append((points1[0], points1[1], points1[2], points1[3]))\n",
        "      all_points2.append((points2[0], points2[1], points2[2], points2[3]))\n",
        "      continue\n",
        "\n",
        "    if string == \"cts\" and img_no < len(all_points1):\n",
        "      img = clahe_enhancer(img)\n",
        "      a,b,c,d = all_points1[img_no]\n",
        "      e,f,g,h = all_points2[img_no]\n",
        "      img1 = img[b:b+d, a:a+c]\n",
        "      img1 = cv2.resize(img1, dsize=(125,250), interpolation=cv2.INTER_AREA)\n",
        "      img2 = img[f:f+h, e:e+g]\n",
        "      img2 = cv2.resize(img2, dsize=(125,250), interpolation=cv2.INTER_AREA)\n",
        "      if a<e:\n",
        "        img = np.concatenate((img1, img2), axis =1)\n",
        "      else:\n",
        "        img = np.concatenate((img2, img1), axis=1)\n",
        "\n",
        "    if string == \"infections\" and img_no < len(all_points1):\n",
        "      a,b,c,d = all_points1[img_no]\n",
        "      e,f,g,h = all_points2[img_no]\n",
        "      img = np.uint8(img*255)\n",
        "      img1 = img[b:b+d, a:a+c]\n",
        "      img1 = cv2.resize(img1, dsize=(125, 250), interpolation=cv2.INTER_AREA)\n",
        "      img2 = img[f:f+h, e:e+g]\n",
        "      img2 = cv2.resize(img2, dsize=(125, 250), interpolation=cv2.INTER_AREA)\n",
        "      if a<e:\n",
        "        img = np.concatenate((img1, img2), axis=1 )\n",
        "      else:\n",
        "        img = np.concatenate((img2, img1), axis=1)\n",
        "    img= cv2.resize(img, dsize=(img_size, img_size), interpolation=cv2.INTER_LINEAR)\n",
        "    data.append(img)\n"
      ],
      "metadata": {
        "id": "85FdxgWRPoCb"
      },
      "execution_count": 11,
      "outputs": []
    },
    {
      "cell_type": "code",
      "source": [
        "# Load image data\n",
        "# We have 2112 CT scan images in total.\n",
        "\n",
        "cts = []\n",
        "lungs = []\n",
        "infections = []\n",
        "img_size = 224\n",
        "for i in range(0, raw_data.shape[0]):\n",
        "  read_nii(raw_data.loc[i,'lung_mask'], lungs, 'lungs')\n",
        "  read_nii(raw_data.loc[i,'ct_scan'], cts, 'cts')\n",
        "  read_nii(raw_data.loc[i,'infection_mask'], infections, 'infections')\n",
        "\n",
        "print(len(cts), len(infections))"
      ],
      "metadata": {
        "colab": {
          "base_uri": "https://localhost:8080/"
        },
        "id": "JwmBeimxfzFB",
        "outputId": "49b497e6-df65-43ab-e3af-6379a40f6a2f"
      },
      "execution_count": 12,
      "outputs": [
        {
          "output_type": "stream",
          "name": "stdout",
          "text": [
            "2112 2112\n"
          ]
        }
      ]
    },
    {
      "cell_type": "code",
      "source": [
        "# Load Target Label\n",
        "\n",
        "y_label = []\n",
        "for i in range(0, len(infections)):\n",
        "  if len(np.unique(infections[i]))!=1:\n",
        "    y_label.append(1)\n",
        "  else:\n",
        "    y_label.append(0)\n",
        "print(y_label.count(0), y_label.count(1))\n"
      ],
      "metadata": {
        "colab": {
          "base_uri": "https://localhost:8080/"
        },
        "id": "UPUXxk4MlsAZ",
        "outputId": "979fe56c-dfc0-424e-8259-0f8b55e02d53"
      },
      "execution_count": 13,
      "outputs": [
        {
          "output_type": "stream",
          "name": "stdout",
          "text": [
            "498 1614\n"
          ]
        }
      ]
    },
    {
      "cell_type": "code",
      "source": [
        "# Prepare the Data in the following steps:\n",
        "# 1. Convert data to numpy array\n",
        "# 2. Split data into training and validation data (0.7:0.3)\n",
        "# 3. Set up data augmentation generator to diversity our data and avoid overfitting\n",
        "\n",
        "# Convert to np array\n",
        "cts = np.array(cts).astype('uint8')\n",
        "cts = cts.reshape(len(cts), img_size, img_size, 1)\n",
        "y_label = np.array(y_label)\n",
        "\n",
        "# Split data\n",
        "x_train, x_valid, y_train, y_valid = train_test_split(cts, y_label, test_size = 0.3, random_state=42)\n",
        "\n",
        "# data augmentation\n",
        "aug = ImageDataGenerator(\n",
        "    width_shift_range=0.1,\n",
        "    height_shift_range=0.1,\n",
        "    horizontal_flip=True,\n",
        "    fill_mode=\"nearest\"\n",
        "    )\n"
      ],
      "metadata": {
        "id": "-SS-mibOj8rs"
      },
      "execution_count": 21,
      "outputs": []
    },
    {
      "cell_type": "code",
      "source": [
        "type(y_label)"
      ],
      "metadata": {
        "colab": {
          "base_uri": "https://localhost:8080/"
        },
        "id": "XZPe17cLqPNR",
        "outputId": "66df92f4-a9b3-473c-96e7-5087add3bb1f"
      },
      "execution_count": 35,
      "outputs": [
        {
          "output_type": "execute_result",
          "data": {
            "text/plain": [
              "numpy.ndarray"
            ]
          },
          "metadata": {},
          "execution_count": 35
        }
      ]
    },
    {
      "cell_type": "code",
      "source": [
        "type(x_train)"
      ],
      "metadata": {
        "colab": {
          "base_uri": "https://localhost:8080/"
        },
        "id": "Ih3tAoJJtEFK",
        "outputId": "237a5c35-48fd-4a2c-943d-d1765ac0c820"
      },
      "execution_count": 33,
      "outputs": [
        {
          "output_type": "execute_result",
          "data": {
            "text/plain": [
              "numpy.ndarray"
            ]
          },
          "metadata": {},
          "execution_count": 33
        }
      ]
    },
    {
      "cell_type": "code",
      "source": [
        "type(x_valid)"
      ],
      "metadata": {
        "colab": {
          "base_uri": "https://localhost:8080/"
        },
        "id": "wqbUYieMtFS2",
        "outputId": "d81e8e0f-9dfd-4e0a-bf2c-9efcb7b43287"
      },
      "execution_count": 37,
      "outputs": [
        {
          "output_type": "execute_result",
          "data": {
            "text/plain": [
              "numpy.ndarray"
            ]
          },
          "metadata": {},
          "execution_count": 37
        }
      ]
    },
    {
      "cell_type": "code",
      "source": [
        "type(y_train)"
      ],
      "metadata": {
        "colab": {
          "base_uri": "https://localhost:8080/"
        },
        "id": "MWd9mf9QtIod",
        "outputId": "4e20e3ac-1af6-4230-822a-d03b5a02133c"
      },
      "execution_count": 39,
      "outputs": [
        {
          "output_type": "execute_result",
          "data": {
            "text/plain": [
              "numpy.ndarray"
            ]
          },
          "metadata": {},
          "execution_count": 39
        }
      ]
    },
    {
      "cell_type": "code",
      "source": [
        "# Build Model\n",
        "\n",
        "model = Sequential()\n",
        "model.add(Conv2D(16, (3,3), activation='relu', padding=\"same\", input_shape=(img_size,img_size,1)))\n",
        "model.add(BatchNormalization())\n",
        "model.add(Conv2D(16, (3,3), padding=\"same\", activation='relu'))\n",
        "model.add(BatchNormalization())\n",
        "model.add(MaxPooling2D(pool_size=(2,2)))\n",
        "\n",
        "model.add(Conv2D(32, (3,3), activation='relu', padding=\"same\"))\n",
        "model.add(BatchNormalization())\n",
        "model.add(Conv2D(32, (3,3), padding=\"same\", activation='relu'))\n",
        "model.add(BatchNormalization())\n",
        "model.add(MaxPooling2D(pool_size=(2,2)))\n",
        "\n",
        "model.add(Conv2D(64, (3,3), activation='relu', padding=\"same\"))\n",
        "model.add(BatchNormalization())\n",
        "model.add(Conv2D(64, (3,3), padding=\"same\", activation='relu'))\n",
        "model.add(BatchNormalization())\n",
        "model.add(MaxPooling2D(pool_size=(2,2)))\n",
        "\n",
        "model.add(Flatten())\n",
        "\n",
        "model.add(Dense(64, activation='relu'))\n",
        "model.add(Dropout(0.4))\n",
        "model.add(Dense(1, activation='sigmoid'))\n",
        "\n",
        "batch_size = 32\n",
        "epochs = 80\n",
        "best_val_auc = -1\n",
        "\n",
        "#model checkpoint\n",
        "filepath_acc = \"covid_weights_val_acc.hdf5\"\n",
        "checkpoint_acc = ModelCheckpoint(filepath_acc, monitor='val_acc', verbose=1, save_best_only=True, mode='max')\n",
        "model.compile(loss='binary_crossentropy', optimizer=Adam(lr=0.0003), metrics=[\"acc\"])"
      ],
      "metadata": {
        "id": "enJCvo5eqrY2"
      },
      "execution_count": 41,
      "outputs": []
    },
    {
      "cell_type": "code",
      "source": [
        "# Training Model\n",
        "# Calulate the class weights due to unbalanced data\n",
        "\n",
        "#weights = class_weight.compute_class_weight(class_weight = 'balanced', np.unique(y_train), y_train)\n",
        "weights = class_weight.compute_class_weight(\n",
        "                                        class_weight = \"balanced\",\n",
        "                                        classes = np.unique(y_train),\n",
        "                                        y = y_train                                                   \n",
        "                                    )\n",
        "\n",
        "weights = dict(enumerate(weights))\n",
        "\n",
        "# train model\n",
        "results = model.fit(aug.flow(x_train, y_train, batch_size=batch_size), epochs=epochs,\n",
        "                    validation_data=(x_valid, y_valid), \n",
        "                    steps_per_epoch = len(x_train)//batch_size,\n",
        "                    callbacks = [checkpoint_acc],\n",
        "                    class_weight=weights)"
      ],
      "metadata": {
        "colab": {
          "base_uri": "https://localhost:8080/"
        },
        "id": "BxAc8mqC3YDJ",
        "outputId": "58b34688-b0e0-47fb-fa74-fca26a992cb5"
      },
      "execution_count": null,
      "outputs": [
        {
          "output_type": "stream",
          "name": "stdout",
          "text": [
            "Epoch 1/80\n",
            "46/46 [==============================] - ETA: 0s - loss: 1.5750 - acc: 0.5906WARNING:tensorflow:AutoGraph could not transform <function Model.make_test_function.<locals>.test_function at 0x7fb8fd51d950> and will run it as-is.\n",
            "Please report this to the TensorFlow team. When filing the bug, set the verbosity to 10 (on Linux, `export AUTOGRAPH_VERBOSITY=10`) and attach the full output.\n",
            "Cause: Unable to locate the source code of <function Model.make_test_function.<locals>.test_function at 0x7fb8fd51d950>. Note that functions defined in certain environments, like the interactive Python shell do not expose their source code. If that is the case, you should to define them in a .py source file. If you are certain the code is graph-compatible, wrap the call using @tf.autograph.do_not_convert. Original error: could not get source code\n",
            "To silence this warning, decorate the function with @tf.autograph.experimental.do_not_convert\n",
            "WARNING: AutoGraph could not transform <function Model.make_test_function.<locals>.test_function at 0x7fb8fd51d950> and will run it as-is.\n",
            "Please report this to the TensorFlow team. When filing the bug, set the verbosity to 10 (on Linux, `export AUTOGRAPH_VERBOSITY=10`) and attach the full output.\n",
            "Cause: Unable to locate the source code of <function Model.make_test_function.<locals>.test_function at 0x7fb8fd51d950>. Note that functions defined in certain environments, like the interactive Python shell do not expose their source code. If that is the case, you should to define them in a .py source file. If you are certain the code is graph-compatible, wrap the call using @tf.autograph.do_not_convert. Original error: could not get source code\n",
            "To silence this warning, decorate the function with @tf.autograph.experimental.do_not_convert\n",
            "\n",
            "Epoch 00001: val_acc improved from -inf to 0.75868, saving model to covid_weights_val_acc.hdf5\n",
            "46/46 [==============================] - 261s 6s/step - loss: 1.5750 - acc: 0.5906 - val_loss: 0.5276 - val_acc: 0.7587\n",
            "Epoch 2/80\n",
            "37/46 [=======================>......] - ETA: 46s - loss: 0.5897 - acc: 0.6684"
          ]
        }
      ]
    },
    {
      "cell_type": "code",
      "source": [
        "# Model Performance by using validation data to evaluate\n",
        "# Load the checkpoint with best validation accuracy\n",
        "# See the test loss and accuracy from the output below\n",
        "\n",
        "model.load_weights(\"covid_weights_val_acc.hdf5\")\n",
        "score = model.evaluate(x_valid, y_valid, batch_size=32)\n",
        "print(\"test loss:\" , score[0], \"\\ntest accuracy:\" , score[1])"
      ],
      "metadata": {
        "colab": {
          "base_uri": "https://localhost:8080/"
        },
        "id": "xalQvJD19l3J",
        "outputId": "916b6e0d-3b7a-42b2-aa10-02521969bc19"
      },
      "execution_count": 31,
      "outputs": [
        {
          "output_type": "stream",
          "name": "stdout",
          "text": [
            "20/20 [==============================] - 25s 1s/step - loss: 0.5927 - acc: 0.7997\n",
            "test loss: 0.592706561088562 \n",
            "test accuracy: 0.7996845245361328\n"
          ]
        }
      ]
    },
    {
      "cell_type": "code",
      "source": [
        "# Train and Validation Loss\n",
        "rcParams['figure.figsize'] = 10,7\n",
        "plt.grid('True')\n",
        "plt.plot(results.history['loss'], color='m')\n",
        "plt.plot(results.history['val_loss'], color='k')\n",
        "plt.title('Loss')\n",
        "plt.ylabel('loss')\n",
        "plt.xlabel('epoch')\n",
        "plt.legend(['train', 'test'], loc='upper left')\n",
        "plt.show()"
      ],
      "metadata": {
        "colab": {
          "base_uri": "https://localhost:8080/",
          "height": 458
        },
        "id": "ZgLsj_sx-LoY",
        "outputId": "9b616c9a-c07d-4fb0-863c-86b78381625a"
      },
      "execution_count": 40,
      "outputs": [
        {
          "output_type": "display_data",
          "data": {
            "text/plain": [
              "<Figure size 720x504 with 1 Axes>"
            ],
            "image/png": "[encoded data removed]"
          },
          "metadata": {
            "needs_background": "light"
          }
        }
      ]
    }
  ]
}